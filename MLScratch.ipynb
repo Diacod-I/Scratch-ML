{
  "nbformat": 4,
  "nbformat_minor": 0,
  "metadata": {
    "colab": {
      "provenance": [],
      "authorship_tag": "ABX9TyM/aZYL/7OHmOh4EW1Fx1CH",
      "include_colab_link": true
    },
    "kernelspec": {
      "name": "python3",
      "display_name": "Python 3"
    },
    "language_info": {
      "name": "python"
    }
  },
  "cells": [
    {
      "cell_type": "markdown",
      "metadata": {
        "id": "view-in-github",
        "colab_type": "text"
      },
      "source": [
        "<a href=\"https://colab.research.google.com/github/Diacod-I/Scratch-ML/blob/main/MLScratch.ipynb\" target=\"_parent\"><img src=\"https://colab.research.google.com/assets/colab-badge.svg\" alt=\"Open In Colab\"/></a>"
      ]
    },
    {
      "cell_type": "markdown",
      "source": [
        "## Monovariate Linear Regression from scratch"
      ],
      "metadata": {
        "id": "K5KDDx3nMHae"
      }
    },
    {
      "cell_type": "code",
      "source": [
        "import numpy as np\n",
        "import matplotlib.pyplot as plt"
      ],
      "metadata": {
        "id": "x5lefsNZ0914"
      },
      "execution_count": 10,
      "outputs": []
    },
    {
      "cell_type": "code",
      "source": [
        "def lmean(xarr):\n",
        "  return sum(xarr)/len(xarr)\n",
        "\n",
        "def stanerr(yarr,ypred):\n",
        "    ydiff = list(map(lambda a:round(a,5),[(i-j)**2 for i,j in zip(yarr,ypred)]))\n",
        "    err = (sum(ydiff)/(len(ydiff)-2))**(1/2)\n",
        "    print(\"Standard Error of Estimates: {:.4f}\".format(err),end='\\n\\n')\n",
        "\n",
        "def rsquare(yarr,ypred):\n",
        "\n",
        "    rss = sum([(i-j)**2 for i,j in zip(yarr,ypred)])\n",
        "    ssr = sum([(i-lmean(yarr))**2 for i in yarr])\n",
        "    tss = rss+ssr\n",
        "    rsq = (1-(rss/tss))*100\n",
        "    print(\"R^2: {:.4f} %\".format(rsq),end='\\n\\n')"
      ],
      "metadata": {
        "id": "tlUQoZK9Qp-U"
      },
      "execution_count": 27,
      "outputs": []
    },
    {
      "cell_type": "code",
      "execution_count": 28,
      "metadata": {
        "id": "7YZcGZTtMBvA"
      },
      "outputs": [],
      "source": [
        "def LinearReg(xarr,yarr,err_est='standard'):\n",
        "    xmean = lmean(xarr)\n",
        "    ymean = lmean(yarr)\n",
        "\n",
        "    xvar = list(map(lambda a: round(a,4),[(i-xmean) for i in xarr]))\n",
        "    yvar = list(map(lambda a: round(a,4),[(i-ymean) for i in yarr]))\n",
        "\n",
        "    xsvar = list(map(lambda a: round(a,4),[i**2 for i in xvar]))\n",
        "    varprod = list(map(lambda a: round(a,4),[i*j for i,j in zip(xvar,yvar)]))\n",
        "\n",
        "    covar = sum(varprod)/len(varprod)\n",
        "    b1 = sum(varprod)/sum(xsvar)\n",
        "    b0 = ymean - (b1*xmean)\n",
        "\n",
        "    ypred = [((b1*i)+b0) for i in xarr]\n",
        "\n",
        "    print(\"X values provided:\",xarr,end='\\n')\n",
        "    print(\"Y values provided:\",yarr,end='\\n\\n')\n",
        "\n",
        "    print(\"Mean of X:\",xmean,end='\\n')\n",
        "    print(\"Mean of Y:\",ymean,end='\\n\\n')\n",
        "\n",
        "    print(\"Variance of X (X-Xmean):\",xvar,end='\\n')\n",
        "    print(\"Variance of Y (Y-Ymean):\",yvar,end='\\n\\n')\n",
        "\n",
        "    print(\"Squared X Variance\",xsvar,end='\\n')\n",
        "    print(\"(X-Xmean)(Y-Ymean):\",varprod,end='\\n\\n')\n",
        "\n",
        "    print(\"Covariance:{:.4f}\".format(covar),end='\\n')\n",
        "    print(\"b1 = Σ((X-Xmean)(Y-Ymean))/Σ((X-Xmean)^2) : {:.4f}\".format(b1),end='\\n')\n",
        "    print(\"b0 = Ymean - (b1)(Xmean) : {:.4f}\".format(b0),end='\\n\\n')\n",
        "\n",
        "    print(\"Predictions of Y based on the Linear Equation:\",list(map(lambda a:float(\"{:.3f}\".format(a)),ypred)),end='\\n\\n')\n",
        "\n",
        "    if err_est=='standard':\n",
        "      stanerr(yarr,ypred)\n",
        "\n",
        "    elif err_est=='rsquare':\n",
        "      rsquare(yarr,ypred)\n",
        "    else:\n",
        "      raise Exception('Invalid Argument: err_est\\n\\nOnly arguments possible are as follows:\\n\\n\\'standard(default)\\', \\'rsquare\\'\\n')\n",
        "\n",
        "    plt.scatter(xarr,yarr)\n",
        "    plt.plot(xarr,ypred,c='k')"
      ]
    },
    {
      "cell_type": "code",
      "source": [
        "xarr = list(np.random.randint(11, size=20))\n",
        "yarr = list(np.random.randint(11, size=20))"
      ],
      "metadata": {
        "id": "Afe6u9VE0Oxc"
      },
      "execution_count": 5,
      "outputs": []
    },
    {
      "cell_type": "code",
      "source": [
        "LinearReg(xarr,yarr,err_est='rsquare')"
      ],
      "metadata": {
        "colab": {
          "base_uri": "https://localhost:8080/",
          "height": 632
        },
        "id": "wsjSPwfdSjbq",
        "outputId": "ef87f0fc-8706-49bd-f0c7-8223c53d65c4"
      },
      "execution_count": 26,
      "outputs": [
        {
          "output_type": "stream",
          "name": "stdout",
          "text": [
            "X values provided: [10, 5, 3, 0, 4, 0, 6, 7, 3, 4, 0, 6, 7, 2, 1, 8, 8, 3, 8, 3]\n",
            "Y values provided: [9, 6, 1, 6, 5, 5, 8, 8, 2, 6, 7, 6, 5, 10, 1, 1, 5, 3, 5, 9]\n",
            "\n",
            "Mean of X: 4.4\n",
            "Mean of Y: 5.4\n",
            "\n",
            "Variance of X (X-Xmean): [5.6, 0.6, -1.4, -4.4, -0.4, -4.4, 1.6, 2.6, -1.4, -0.4, -4.4, 1.6, 2.6, -2.4, -3.4, 3.6, 3.6, -1.4, 3.6, -1.4]\n",
            "Variance of Y (Y-Ymean): [3.6, 0.6, -4.4, 0.6, -0.4, -0.4, 2.6, 2.6, -3.4, 0.6, 1.6, 0.6, -0.4, 4.6, -4.4, -4.4, -0.4, -2.4, -0.4, 3.6]\n",
            "\n",
            "Squared X Variance [31.36, 0.36, 1.96, 19.36, 0.16, 19.36, 2.56, 6.76, 1.96, 0.16, 19.36, 2.56, 6.76, 5.76, 11.56, 12.96, 12.96, 1.96, 12.96, 1.96]\n",
            "(X-Xmean)(Y-Ymean): [20.16, 0.36, 6.16, -2.64, 0.16, 1.76, 4.16, 6.76, 4.76, -0.24, -7.04, 0.96, -1.04, -11.04, 14.96, -15.84, -1.44, 3.36, -1.44, -5.04]\n",
            "\n",
            "Covariance:0.8900\n",
            "b1 = Σ((X-Xmean)(Y-Ymean))/Σ((X-Xmean)^2) : 0.1030\n",
            "b0 = Ymean - (b1)(Xmean) : 4.9468\n",
            "\n",
            "Predictions of Y based on the Linear Equation: [5.977, 5.462, 5.256, 4.947, 5.359, 4.947, 5.565, 5.668, 5.256, 5.359, 4.947, 5.565, 5.668, 5.153, 5.05, 5.771, 5.771, 5.256, 5.771, 5.256]\n",
            "\n",
            "R^2: 50.3277 %\n",
            "\n"
          ]
        },
        {
          "output_type": "display_data",
          "data": {
            "text/plain": [
              "<Figure size 432x288 with 1 Axes>"
            ],
            "image/png": "[encoded data removed]"
          },
          "metadata": {
            "needs_background": "light"
          }
        }
      ]
    },
    {
      "cell_type": "markdown",
      "source": [
        "## Logistic Regression from scratch"
      ],
      "metadata": {
        "id": "vhqhqzzoS8dH"
      }
    },
    {
      "cell_type": "code",
      "source": [],
      "metadata": {
        "id": "Gip04vN1S7-K"
      },
      "execution_count": null,
      "outputs": []
    }
  ]
}